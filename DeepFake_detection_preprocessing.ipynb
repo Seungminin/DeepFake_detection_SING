{
  "nbformat": 4,
  "nbformat_minor": 0,
  "metadata": {
    "colab": {
      "provenance": [],
      "gpuType": "T4",
      "authorship_tag": "ABX9TyNthDns+xKEstU+LsORXrEe",
      "include_colab_link": true
    },
    "kernelspec": {
      "name": "python3",
      "display_name": "Python 3"
    },
    "language_info": {
      "name": "python"
    },
    "accelerator": "GPU"
  },
  "cells": [
    {
      "cell_type": "markdown",
      "metadata": {
        "id": "view-in-github",
        "colab_type": "text"
      },
      "source": [
        "<a href=\"https://colab.research.google.com/github/Seungminin/DeepFake_detection_SING/blob/master/DeepFake_detection_preprocessing.ipynb\" target=\"_parent\"><img src=\"https://colab.research.google.com/assets/colab-badge.svg\" alt=\"Open In Colab\"/></a>"
      ]
    },
    {
      "cell_type": "code",
      "source": [
        "import glob #큰 데이터 셋을 다룰 때 특정 확장자명을 리스트 형태로 반환해주는 모듈이다.\n",
        "import zipfile\n",
        "import cv2"
      ],
      "metadata": {
        "id": "ENgtxYDiGsgr"
      },
      "execution_count": null,
      "outputs": []
    },
    {
      "cell_type": "code",
      "source": [
        "#Mount our google drive\n",
        "from google.colab import drive\n",
        "drive.mount('/content/drive')"
      ],
      "metadata": {
        "colab": {
          "base_uri": "https://localhost:8080/"
        },
        "id": "V7dhIS6HB1F5",
        "outputId": "fdb29f37-2100-467f-826b-b94a6f80dce4"
      },
      "execution_count": null,
      "outputs": [
        {
          "output_type": "stream",
          "name": "stdout",
          "text": [
            "Mounted at /content/drive\n"
          ]
        }
      ]
    },
    {
      "cell_type": "code",
      "source": [
        "%cd /content/drive/MyDrive/datasets"
      ],
      "metadata": {
        "colab": {
          "base_uri": "https://localhost:8080/"
        },
        "id": "mMk9Uk1BD-1U",
        "outputId": "29308d05-d465-4df2-b230-8b19a50dc6ef"
      },
      "execution_count": null,
      "outputs": [
        {
          "output_type": "stream",
          "name": "stdout",
          "text": [
            "/content/drive/MyDrive/datasets\n"
          ]
        }
      ]
    },
    {
      "cell_type": "code",
      "source": [
        "zip_file = zipfile.ZipFile('test.zip') # 압축을 해제할 '/파일경로/파일명.zip'\n",
        "zip_file.extractall('/content/drive/MyDrive/datasets/') # 압축을 해제할 '/위치경로/'"
      ],
      "metadata": {
        "id": "Xcm8FcTMz88I"
      },
      "execution_count": null,
      "outputs": []
    },
    {
      "cell_type": "code",
      "source": [
        "filepaths_real = list(glob.glob('/content/drive/MyDrive/datasets/test/real/*.jpg'))\n",
        "filepaths_fake = list(glob.glob('/content/drive/MyDrive/datasets/test/fake/*.jpg'))\n",
        "print(len(filepaths_real)) #test real image수는 3439.\n",
        "print(len(filepaths_fake)) #test fake image수는 10103.\n"
      ],
      "metadata": {
        "colab": {
          "base_uri": "https://localhost:8080/"
        },
        "id": "PxP6y9l7HMBt",
        "outputId": "2b54c3a9-07d9-447d-aae7-87cddad6d8fc"
      },
      "execution_count": null,
      "outputs": [
        {
          "output_type": "stream",
          "name": "stdout",
          "text": [
            "3439\n",
            "10103\n"
          ]
        }
      ]
    },
    {
      "cell_type": "code",
      "source": [
        "#이미지의 크기를 맞춰주는 작업\n",
        "def Image_resize(images, target_size):\n",
        "    resized_images = []\n",
        "    for image_path in images:\n",
        "        try:\n",
        "            image = cv2.imread(image_path)\n",
        "            resized_image = cv2.resize(image, target_size, interpolation=cv2.INTER_AREA)\n",
        "            resized_images.append(resized_image)\n",
        "        except Exception as e:\n",
        "            print(f\"Error resizing image {image_path}: {e}\")\n",
        "    return resized_images\n",
        "\n",
        "real_images = glob.glob('/content/drive/MyDrive/datasets/test/real/*.jpg')\n",
        "fake_images = glob.glob('/content/drive/MyDrive/datasets/test/fake/*.jpg')\n",
        "\n",
        "resized_real_images = Image_resize(real_images, (120, 120))\n",
        "resized_fake_images = Image_resize(fake_images, (120, 120))\n"
      ],
      "metadata": {
        "colab": {
          "base_uri": "https://localhost:8080/",
          "height": 327
        },
        "id": "i_tOPJcK4vGJ",
        "outputId": "2e1b2648-19ad-4005-ea22-cf10cd3d7526"
      },
      "execution_count": null,
      "outputs": [
        {
          "output_type": "error",
          "ename": "KeyboardInterrupt",
          "evalue": "",
          "traceback": [
            "\u001b[0;31m---------------------------------------------------------------------------\u001b[0m",
            "\u001b[0;31mKeyboardInterrupt\u001b[0m                         Traceback (most recent call last)",
            "\u001b[0;32m<ipython-input-18-2ae6fb585d44>\u001b[0m in \u001b[0;36m<cell line: 17>\u001b[0;34m()\u001b[0m\n\u001b[1;32m     15\u001b[0m \u001b[0;34m\u001b[0m\u001b[0m\n\u001b[1;32m     16\u001b[0m \u001b[0mresized_real_images\u001b[0m \u001b[0;34m=\u001b[0m \u001b[0mImage_resize\u001b[0m\u001b[0;34m(\u001b[0m\u001b[0mreal_images\u001b[0m\u001b[0;34m,\u001b[0m \u001b[0;34m(\u001b[0m\u001b[0;36m120\u001b[0m\u001b[0;34m,\u001b[0m \u001b[0;36m120\u001b[0m\u001b[0;34m)\u001b[0m\u001b[0;34m)\u001b[0m\u001b[0;34m\u001b[0m\u001b[0;34m\u001b[0m\u001b[0m\n\u001b[0;32m---> 17\u001b[0;31m \u001b[0mresized_fake_images\u001b[0m \u001b[0;34m=\u001b[0m \u001b[0mImage_resize\u001b[0m\u001b[0;34m(\u001b[0m\u001b[0mfake_images\u001b[0m\u001b[0;34m,\u001b[0m \u001b[0;34m(\u001b[0m\u001b[0;36m120\u001b[0m\u001b[0;34m,\u001b[0m \u001b[0;36m120\u001b[0m\u001b[0;34m)\u001b[0m\u001b[0;34m)\u001b[0m\u001b[0;34m\u001b[0m\u001b[0;34m\u001b[0m\u001b[0m\n\u001b[0m",
            "\u001b[0;32m<ipython-input-18-2ae6fb585d44>\u001b[0m in \u001b[0;36mImage_resize\u001b[0;34m(images, target_size)\u001b[0m\n\u001b[1;32m      4\u001b[0m     \u001b[0;32mfor\u001b[0m \u001b[0mimage_path\u001b[0m \u001b[0;32min\u001b[0m \u001b[0mimages\u001b[0m\u001b[0;34m:\u001b[0m\u001b[0;34m\u001b[0m\u001b[0;34m\u001b[0m\u001b[0m\n\u001b[1;32m      5\u001b[0m         \u001b[0;32mtry\u001b[0m\u001b[0;34m:\u001b[0m\u001b[0;34m\u001b[0m\u001b[0;34m\u001b[0m\u001b[0m\n\u001b[0;32m----> 6\u001b[0;31m             \u001b[0mimage\u001b[0m \u001b[0;34m=\u001b[0m \u001b[0mcv2\u001b[0m\u001b[0;34m.\u001b[0m\u001b[0mimread\u001b[0m\u001b[0;34m(\u001b[0m\u001b[0mimage_path\u001b[0m\u001b[0;34m)\u001b[0m\u001b[0;34m\u001b[0m\u001b[0;34m\u001b[0m\u001b[0m\n\u001b[0m\u001b[1;32m      7\u001b[0m             \u001b[0mresized_image\u001b[0m \u001b[0;34m=\u001b[0m \u001b[0mcv2\u001b[0m\u001b[0;34m.\u001b[0m\u001b[0mresize\u001b[0m\u001b[0;34m(\u001b[0m\u001b[0mimage\u001b[0m\u001b[0;34m,\u001b[0m \u001b[0mtarget_size\u001b[0m\u001b[0;34m,\u001b[0m \u001b[0minterpolation\u001b[0m\u001b[0;34m=\u001b[0m\u001b[0mcv2\u001b[0m\u001b[0;34m.\u001b[0m\u001b[0mINTER_AREA\u001b[0m\u001b[0;34m)\u001b[0m\u001b[0;34m\u001b[0m\u001b[0;34m\u001b[0m\u001b[0m\n\u001b[1;32m      8\u001b[0m             \u001b[0mresized_images\u001b[0m\u001b[0;34m.\u001b[0m\u001b[0mappend\u001b[0m\u001b[0;34m(\u001b[0m\u001b[0mresized_image\u001b[0m\u001b[0;34m)\u001b[0m\u001b[0;34m\u001b[0m\u001b[0;34m\u001b[0m\u001b[0m\n",
            "\u001b[0;31mKeyboardInterrupt\u001b[0m: "
          ]
        }
      ]
    },
    {
      "cell_type": "code",
      "source": [
        "print(len(resized_real_images))"
      ],
      "metadata": {
        "colab": {
          "base_uri": "https://localhost:8080/"
        },
        "id": "9FALjL738Yrt",
        "outputId": "96113992-ff8e-4134-b686-9e452a584191"
      },
      "execution_count": null,
      "outputs": [
        {
          "output_type": "stream",
          "name": "stdout",
          "text": [
            "3439\n"
          ]
        }
      ]
    },
    {
      "cell_type": "code",
      "source": [
        "#Cropping은 이미지에서 필요로 하지 않은 Outlier들을 제거하는 방법이다. 전처리의 성능을 높이기 위한 방법!\n",
        "#이미지를 확대하거나 자르거나 변형시키는 과정.\n",
        "#https://en.wikipedia.org/wiki/Cropping_(image) 위키참고.\n",
        "\n",
        "#DeepFake 모델의 성능을 높이기 위해서는 Cropping 기법 중 Center Crop(=얼굴 부분, 중요한 부분)을 주로 사용.\n",
        "\n",
        "def drop_out_area(size = 300):\n",
        "  ret = np.ones((8,size,size), int)\n",
        "\n",
        "  temp = np.ones((size,size), int)\n",
        "\n",
        "  for i in range(size//2):\n",
        "    for j in range(i+1):\n",
        "      temp[i, j] = 0\n",
        "\n",
        "  for i in range(8):\n",
        "    ret[i] = temp\n",
        "    temp = np.rot90(temp)\n",
        "    if i == 3:\n",
        "      temp = np.flip(temp, axis = 0)\n",
        "  return ret"
      ],
      "metadata": {
        "id": "oPEjDO8a6gQA"
      },
      "execution_count": null,
      "outputs": []
    }
  ]
}